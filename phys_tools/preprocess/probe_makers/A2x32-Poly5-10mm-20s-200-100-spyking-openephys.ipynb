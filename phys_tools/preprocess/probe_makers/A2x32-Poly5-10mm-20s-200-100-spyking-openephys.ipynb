{
 "cells": [
  {
   "cell_type": "code",
   "execution_count": 1,
   "metadata": {
    "collapsed": false
   },
   "outputs": [],
   "source": [
    "import numpy as np"
   ]
  },
  {
   "cell_type": "markdown",
   "metadata": {},
   "source": [
    "BUILD PROBE VIA SITE MAP FROM NN\n",
    "---"
   ]
  },
  {
   "cell_type": "code",
   "execution_count": 2,
   "metadata": {
    "collapsed": true
   },
   "outputs": [],
   "source": [
    "site_groups = {\n",
    "    0: {\n",
    "        'geometry':{\n",
    "        },\n",
    "        'sites': [x for x in range(1, 33)]  # 1 to 33\n",
    "    },\n",
    "    1: {\n",
    "        'geometry': {\n",
    "        },\n",
    "        'sites': [x for x in range(33, 65)]  # 33 to 64\n",
    "    }\n",
    "}"
   ]
  },
  {
   "cell_type": "code",
   "execution_count": 3,
   "metadata": {
    "collapsed": false
   },
   "outputs": [
    {
     "name": "stdout",
     "output_type": "stream",
     "text": [
      "32\n"
     ]
    }
   ],
   "source": [
    "row1 = np.arange(1, 7)\n",
    "row2 = np.arange(7, 14)\n",
    "row3 = np.array([14,19,15,18,16,17])\n",
    "row4 = np.flipud(np.arange(20,27))\n",
    "row5 = np.flipud(np.arange(27,33))\n",
    "print (row1.size+row2.size+row3.size+row4.size+row5.size)"
   ]
  },
  {
   "cell_type": "code",
   "execution_count": 4,
   "metadata": {
    "collapsed": false
   },
   "outputs": [],
   "source": [
    "graph = []\n",
    "last = None\n",
    "for i in range(len(row1)):\n",
    "    s1 = row1[i]\n",
    "    if i>0:  # same row edge.\n",
    "        graph.append((row1[i-1], s1))\n",
    "    for ii in range(i, i+2):\n",
    "        s2 = row2[ii]\n",
    "        graph.append((s1,s2))\n",
    "        \n",
    "for i in range(len(row2)):\n",
    "    s1 = row2[i]\n",
    "    if i>0:  # same row edge.\n",
    "        graph.append((row2[i-1], s1))\n",
    "    for ii in range(i-1, i+1):\n",
    "        if ii >= 0 and ii < len(row3):\n",
    "            s2 = row3[ii]\n",
    "            graph.append((s1,s2))\n",
    "            \n",
    "for i in range(len(row3)):\n",
    "    s1 = row3[i]\n",
    "    if i>0:  # same row edge.\n",
    "        graph.append((row3[i-1], s1))\n",
    "    for ii in range(i, i+2):\n",
    "        s2 = row4[ii]\n",
    "        graph.append((s1,s2))\n",
    "\n",
    "for i in range(len(row4)):\n",
    "    s1 = row4[i]\n",
    "    if i>0:  # same row edge.\n",
    "        graph.append((row4[i-1], s1))\n",
    "    for ii in range(i-1, i+1):\n",
    "        if ii >= 0 and ii < len(row5):\n",
    "            s2 = row5[ii]\n",
    "            graph.append((s1,s2))\n",
    "\n",
    "for i in range(len(row5)-1):\n",
    "    graph.append((row5[i], row5[i+1]))\n",
    "site_groups[0]['graph'] = graph"
   ]
  },
  {
   "cell_type": "code",
   "execution_count": 5,
   "metadata": {
    "collapsed": false
   },
   "outputs": [],
   "source": [
    "graph2 = []\n",
    "for i in graph:\n",
    "    graph2.append([x+32 for x in i])\n",
    "site_groups[1]['graph'] = graph2"
   ]
  },
  {
   "cell_type": "code",
   "execution_count": 6,
   "metadata": {
    "collapsed": false
   },
   "outputs": [],
   "source": [
    "geometry0 = {}\n",
    "for i, s in enumerate(row1):\n",
    "    geometry0[s] = (0, 14+28*i)\n",
    "for i, s in enumerate(row2):\n",
    "    geometry0[s] = (14*1, 28*i)\n",
    "for i, s in enumerate(row3):\n",
    "    geometry0[s] = (14*2, 14+28*i)\n",
    "for i, s in enumerate(row4):\n",
    "    geometry0[s] = (14*3, 28*i)\n",
    "for i, s in enumerate(row5):\n",
    "    geometry0[s] = (14*4, 14+28*i)\n",
    "site_groups[0]['geometry'] = geometry0\n",
    "\n",
    "geometry1 = {}\n",
    "for s, v in geometry0.items():\n",
    "    geometry1[s+32] = (v[0]+200, v[1])\n",
    "site_groups[1]['geometry'] = geometry1"
   ]
  },
  {
   "cell_type": "code",
   "execution_count": 7,
   "metadata": {
    "collapsed": true
   },
   "outputs": [],
   "source": [
    "s_list = '''41\n",
    "38\n",
    "43\n",
    "37\n",
    "39\n",
    "36\n",
    "40\n",
    "45\n",
    "42\n",
    "47\n",
    "44\n",
    "49\n",
    "46\n",
    "51\n",
    "48\n",
    "53\n",
    "34\n",
    "64\n",
    "35\n",
    "58\n",
    "62\n",
    "63\n",
    "33\n",
    "56\n",
    "60\n",
    "61\n",
    "54\n",
    "59\n",
    "57\n",
    "52\n",
    "55\n",
    "50\n",
    "10\n",
    "15\n",
    "8\n",
    "13\n",
    "11\n",
    "6\n",
    "5\n",
    "4\n",
    "32\n",
    "9\n",
    "3\n",
    "2\n",
    "30\n",
    "7\n",
    "31\n",
    "1\n",
    "17\n",
    "12\n",
    "19\n",
    "14\n",
    "21\n",
    "16\n",
    "23\n",
    "18\n",
    "25\n",
    "20\n",
    "26\n",
    "29\n",
    "22\n",
    "28\n",
    "24\n",
    "27'''"
   ]
  },
  {
   "cell_type": "code",
   "execution_count": 8,
   "metadata": {
    "collapsed": false
   },
   "outputs": [],
   "source": [
    "s_list.splitlines()\n",
    "ch_list = [int(x) for x in s_list.splitlines()]"
   ]
  },
  {
   "cell_type": "code",
   "execution_count": 9,
   "metadata": {
    "collapsed": false
   },
   "outputs": [
    {
     "name": "stdout",
     "output_type": "stream",
     "text": [
      "[41, 38, 43, 37, 39, 36, 40, 45, 42, 47, 44, 49, 46, 51, 48, 53, 34, 64, 35, 58, 62, 63, 33, 56, 60, 61, 54, 59, 57, 52, 55, 50, 10, 15, 8, 13, 11, 6, 5, 4, 32, 9, 3, 2, 30, 7, 31, 1, 17, 12, 19, 14, 21, 16, 23, 18, 25, 20, 26, 29, 22, 28, 24, 27]\n"
     ]
    }
   ],
   "source": [
    "print(ch_list)"
   ]
  },
  {
   "cell_type": "markdown",
   "metadata": {},
   "source": [
    "CONVERT TO CHANNELS FROM SITES\n",
    "-----"
   ]
  },
  {
   "cell_type": "code",
   "execution_count": 10,
   "metadata": {
    "collapsed": false
   },
   "outputs": [],
   "source": [
    "SGL_64 = {\n",
    "    'raw_channels': range(64),\n",
    "    'Neuronexus': [\n",
    "        41, 38, 43, 37, 39, 36, 40, 45, 42, 47, 44, 49, 46, 51, 48, 53, 34, 64, 35, 58, 62, 63, 33, 56, 60, \n",
    "        61, 54, 59, 57, 52, 55, 50, 10, 15, 8, 13, 11, 6, 5, 4, 32, 9, 3, 2, 30, 7, 31, 1, 17, 12, 19, 14, 21, \n",
    "        16, 23, 18, 25, 20, 26, 29, 22, 28, 24, 27\n",
    "    ],\n",
    "    'NanoZ': [\n",
    "        34, 36, 38, 40, 42, 44, 46, 48, 47, 45, 43, 41, 39, 37, 35, 33, 57, 59, 62, 64, 50, 52, 54, 56, 55, 53,\n",
    "        51, 49, 63, 61, 60, 58, 1, 3, 5, 7, 9, 11, 13, 15, 16, 14, 12, 10, 8, 6, 4, 2, 26, 28, 29, 31, 17, 19, 21,\n",
    "        23, 24, 22, 20, 18, 32, 30, 27, 25\n",
    "    ],\n",
    "    'HIRES_4x16_flipchip': [\n",
    "        18, 20, 21, 23, 24, 25, 26, 27, 31, 30, 29, 32, 28, 22, 19, 17, 48, 46, 43, 37, 33, 36, 35, 34, 38, 39, 40, 41,\n",
    "        42, 44, 45, 47, 1, 3, 6, 8, 10, 12, 14, 16, 15, 13, 11, 9, 7, 5, 4, 2, 63, 61, 60, 58, 56, 54, 52, 50, 49, 51,\n",
    "        53, 55, 57, 59, 62, 64\n",
    "    ]\n",
    "    \n",
    "}\n",
    "\n",
    "\n"
   ]
  },
  {
   "cell_type": "code",
   "execution_count": 12,
   "metadata": {
    "collapsed": false
   },
   "outputs": [
    {
     "data": {
      "text/plain": [
       "3"
      ]
     },
     "execution_count": 12,
     "metadata": {},
     "output_type": "execute_result"
    }
   ],
   "source": [
    "SGL_64['Neuronexus'].index(37)"
   ]
  },
  {
   "cell_type": "code",
   "execution_count": null,
   "metadata": {
    "collapsed": true
   },
   "outputs": [],
   "source": []
  },
  {
   "cell_type": "code",
   "execution_count": 13,
   "metadata": {
    "collapsed": true
   },
   "outputs": [],
   "source": [
    "def convert_sites_to_channels(site_groups, acq_channels_numbers, acq_site_mapping):\n",
    "    \"\"\"\n",
    "    This maps sites to channels for geometries and the site lists. Also checks for integrity of site lists.\n",
    "    \n",
    "    site_groups is a dictionary with sites and geometries keys.\n",
    "    acq_channel_numbers is a list of channels in order from the acquistion system (ie a range from 0-63).\n",
    "    acq_site_mapping is a list of site numbers corresponding to the acquisition channel numbers specified above.\n",
    "    \n",
    "    \n",
    "    So this will map:\n",
    "        site_groups {\n",
    "            0: {\n",
    "            'sites': [46,45,44]\n",
    "            }\n",
    "        }\n",
    "        acq_channel_numbers = [1,2,3]\n",
    "        acq_site_mapping = [45, 46, 46]\n",
    "        \n",
    "        to:\n",
    "        site_groups {\n",
    "            0: {\n",
    "            'sites': [3, 2, 1]\n",
    "            }\n",
    "        }\n",
    "    \"\"\"\n",
    "    all_ch = []\n",
    "    for k, v in site_groups.items():\n",
    "        all_ch.extend(v['sites'])\n",
    "    print (\"{0} sites found on all groups.\".format(len(all_ch)))\n",
    "    bad = False\n",
    "    for i in all_ch:\n",
    "        nmatches = 0\n",
    "        for ii in all_ch:\n",
    "            if ii == i:\n",
    "                nmatches += 1\n",
    "        if nmatches >= 2:\n",
    "            print (\"ERROR: duplicate site of number {0} found.\".format(i))\n",
    "            bad = True\n",
    "    if bad:\n",
    "        return None\n",
    "    else:\n",
    "        print (\"No duplicate channels.\")\n",
    "        \n",
    "    for k, v in site_groups.items():\n",
    "        site_list = v['sites']\n",
    "        geo = v['geometry'].keys()\n",
    "        \n",
    "        assert len(site_list) == len(geo)\n",
    "        \n",
    "        for s in site_list:\n",
    "            if s not in geo:\n",
    "                raise ValueError('Site {0} specified in \"sites\" but not in \"geometry\" for shank {1}'.format(s, k))\n",
    "        for s in geo:\n",
    "            if s not in site_list:\n",
    "                raise ValueError('Site {0} specified in \"geometry\" but not \"sites\" for shank {1}'.format(s, k))        \n",
    "    print('Site and geometry lists are congruent.')\n",
    "    \n",
    "    channel_groups = {}\n",
    "    for g, v in site_groups.items():\n",
    "        channel_group = {}\n",
    "        channels = []\n",
    "        geometry = {}\n",
    "        for s in v['sites']:\n",
    "            site_idx = acq_site_mapping.index(s)\n",
    "            ch = acq_channels_numbers[site_idx]\n",
    "            channels.append(ch)\n",
    "        channel_group['channels'] = channels\n",
    "        \n",
    "        for s, pos in v['geometry'].items():\n",
    "            site_idx = acq_site_mapping.index(s)\n",
    "            ch = acq_channels_numbers[site_idx]\n",
    "            geometry[ch] = pos\n",
    "        channel_group['geometry'] = geometry\n",
    "        \n",
    "        graph = []\n",
    "        for edge in v['graph']:\n",
    "            new_edge = []\n",
    "            for node in edge:\n",
    "                new_edge.append(acq_channels_numbers[acq_site_mapping.index(node)])\n",
    "            graph.append(new_edge)\n",
    "        channel_group['graph'] = graph\n",
    "        channel_groups[g] = channel_group\n",
    "        \n",
    "    return channel_groups"
   ]
  },
  {
   "cell_type": "code",
   "execution_count": null,
   "metadata": {
    "collapsed": true
   },
   "outputs": [],
   "source": []
  },
  {
   "cell_type": "code",
   "execution_count": 14,
   "metadata": {
    "collapsed": false
   },
   "outputs": [
    {
     "name": "stdout",
     "output_type": "stream",
     "text": [
      "64 sites found on all groups.\n",
      "No duplicate channels.\n",
      "Site and geometry lists are congruent.\n"
     ]
    }
   ],
   "source": [
    "channel_groups = convert_sites_to_channels(site_groups, SGL_64['raw_channels'], SGL_64['Neuronexus'])"
   ]
  },
  {
   "cell_type": "code",
   "execution_count": 15,
   "metadata": {
    "collapsed": true
   },
   "outputs": [],
   "source": [
    "import matplotlib.pyplot as plt\n",
    "%matplotlib inline"
   ]
  },
  {
   "cell_type": "code",
   "execution_count": 16,
   "metadata": {
    "collapsed": false
   },
   "outputs": [
    {
     "data": {
      "image/png": "[encoded data removed]",
      "text/plain": [
       "<matplotlib.figure.Figure at 0x7f417ccc5748>"
      ]
     },
     "metadata": {},
     "output_type": "display_data"
    }
   ],
   "source": [
    "for k, v in site_groups.items():\n",
    "    for kk, vv in v['geometry'].items():\n",
    "        plt.plot(vv[0], vv[1], 'ko')\n",
    "        plt.text(vv[0], vv[1], str(kk))"
   ]
  },
  {
   "cell_type": "code",
   "execution_count": 17,
   "metadata": {
    "collapsed": false
   },
   "outputs": [
    {
     "data": {
      "image/png": "[encoded data removed]",
      "text/plain": [
       "<matplotlib.figure.Figure at 0x7f417ccc54a8>"
      ]
     },
     "metadata": {},
     "output_type": "display_data"
    }
   ],
   "source": [
    "for k, v in channel_groups.items():\n",
    "    for kk, vv in v['geometry'].items():\n",
    "        plt.plot(vv[0], vv[1], 'ko')\n",
    "        plt.text(vv[0], vv[1], str(kk))"
   ]
  },
  {
   "cell_type": "code",
   "execution_count": null,
   "metadata": {
    "collapsed": true
   },
   "outputs": [],
   "source": []
  },
  {
   "cell_type": "code",
   "execution_count": 19,
   "metadata": {
    "collapsed": false,
    "scrolled": true
   },
   "outputs": [],
   "source": [
    "f = open('/home/cdw291/probes/whisper/A2x32-Poly5_whisper_spyking_openephys.prb', 'w')\n",
    "# pickle.dump(channel_groups, f, 0)\n",
    "f.write(\"channel_groups = {0}\".format(channel_groups.__str__()))\n",
    "f.close()"
   ]
  },
  {
   "cell_type": "code",
   "execution_count": null,
   "metadata": {
    "collapsed": true
   },
   "outputs": [],
   "source": []
  }
 ],
 "metadata": {
  "anaconda-cloud": {},
  "kernelspec": {
   "display_name": "Python [conda root]",
   "language": "python",
   "name": "conda-root-py"
  },
  "language_info": {
   "codemirror_mode": {
    "name": "ipython",
    "version": 3
   },
   "file_extension": ".py",
   "mimetype": "text/x-python",
   "name": "python",
   "nbconvert_exporter": "python",
   "pygments_lexer": "ipython3",
   "version": "3.5.2"
  }
 },
 "nbformat": 4,
 "nbformat_minor": 0
}
