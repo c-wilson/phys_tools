{
 "cells": [
  {
   "cell_type": "code",
   "execution_count": 1,
   "metadata": {
    "collapsed": false
   },
   "outputs": [],
   "source": [
    "import numpy as np"
   ]
  },
  {
   "cell_type": "markdown",
   "metadata": {},
   "source": [
    "BUILD PROBE VIA SITE MAP FROM NN\n",
    "---"
   ]
  },
  {
   "cell_type": "code",
   "execution_count": 2,
   "metadata": {
    "collapsed": true
   },
   "outputs": [],
   "source": [
    "site_groups = {\n",
    "    0: {\n",
    "        'geometry':{\n",
    "        },\n",
    "        'sites': [x for x in range(1, 33)]  # 1 to 33\n",
    "    },\n",
    "    1: {\n",
    "        'geometry': {\n",
    "        },\n",
    "        'sites': [x for x in range(33, 65)]  # 33 to 64\n",
    "    }\n",
    "}"
   ]
  },
  {
   "cell_type": "code",
   "execution_count": 3,
   "metadata": {
    "collapsed": false
   },
   "outputs": [
    {
     "name": "stdout",
     "output_type": "stream",
     "text": [
      "32\n"
     ]
    }
   ],
   "source": [
    "row1 = np.arange(1, 7)\n",
    "row2 = np.arange(7, 14)\n",
    "row3 = np.array([14,19,15,18,16,17])\n",
    "row4 = np.flipud(np.arange(20,27))\n",
    "row5 = np.flipud(np.arange(27,33))\n",
    "print (row1.size+row2.size+row3.size+row4.size+row5.size)"
   ]
  },
  {
   "cell_type": "code",
   "execution_count": 4,
   "metadata": {
    "collapsed": false
   },
   "outputs": [],
   "source": [
    "graph = []\n",
    "last = None\n",
    "for i in range(len(row1)):\n",
    "    s1 = row1[i]\n",
    "    if i>0:  # same row edge.\n",
    "        graph.append((row1[i-1], s1))\n",
    "    for ii in range(i, i+2):\n",
    "        s2 = row2[ii]\n",
    "        graph.append((s1,s2))\n",
    "        \n",
    "for i in range(len(row2)):\n",
    "    s1 = row2[i]\n",
    "    if i>0:  # same row edge.\n",
    "        graph.append((row2[i-1], s1))\n",
    "    for ii in range(i-1, i+1):\n",
    "        if ii >= 0 and ii < len(row3):\n",
    "            s2 = row3[ii]\n",
    "            graph.append((s1,s2))\n",
    "            \n",
    "for i in range(len(row3)):\n",
    "    s1 = row3[i]\n",
    "    if i>0:  # same row edge.\n",
    "        graph.append((row3[i-1], s1))\n",
    "    for ii in range(i, i+2):\n",
    "        s2 = row4[ii]\n",
    "        graph.append((s1,s2))\n",
    "\n",
    "for i in range(len(row4)):\n",
    "    s1 = row4[i]\n",
    "    if i>0:  # same row edge.\n",
    "        graph.append((row4[i-1], s1))\n",
    "    for ii in range(i-1, i+1):\n",
    "        if ii >= 0 and ii < len(row5):\n",
    "            s2 = row5[ii]\n",
    "            graph.append((s1,s2))\n",
    "\n",
    "for i in range(len(row5)-1):\n",
    "    graph.append((row5[i], row5[i+1]))\n",
    "site_groups[0]['graph'] = graph"
   ]
  },
  {
   "cell_type": "code",
   "execution_count": 5,
   "metadata": {
    "collapsed": false
   },
   "outputs": [],
   "source": [
    "graph2 = []\n",
    "for i in graph:\n",
    "    graph2.append([x+32 for x in i])\n",
    "site_groups[1]['graph'] = graph2"
   ]
  },
  {
   "cell_type": "code",
   "execution_count": 6,
   "metadata": {
    "collapsed": false
   },
   "outputs": [],
   "source": [
    "geometry0 = {}\n",
    "for i, s in enumerate(row1):\n",
    "    geometry0[s] = (0, 14+28*i)\n",
    "for i, s in enumerate(row2):\n",
    "    geometry0[s] = (14*1, 28*i)\n",
    "for i, s in enumerate(row3):\n",
    "    geometry0[s] = (14*2, 14+28*i)\n",
    "for i, s in enumerate(row4):\n",
    "    geometry0[s] = (14*3, 28*i)\n",
    "for i, s in enumerate(row5):\n",
    "    geometry0[s] = (14*4, 14+28*i)\n",
    "site_groups[0]['geometry'] = geometry0\n",
    "\n",
    "geometry1 = {}\n",
    "for s, v in geometry0.items():\n",
    "    geometry1[s+32] = (v[0]+200, v[1])\n",
    "site_groups[1]['geometry'] = geometry1"
   ]
  },
  {
   "cell_type": "markdown",
   "metadata": {},
   "source": [
    "CONVERT TO CHANNELS FROM SITES\n",
    "-----"
   ]
  },
  {
   "cell_type": "code",
   "execution_count": 7,
   "metadata": {
    "collapsed": true
   },
   "outputs": [],
   "source": [
    "SGL_64 = {\n",
    "    'raw_channels': range(64),\n",
    "    'Neuronexus': [\n",
    "        50, 52, 59, 61, 56, 63, 58, 64, 34, 35, 62, 33, 60, 54, 57, 55, 10, 8, 11, 5, 32, 3, 30, 31, 1, 7, 2,\n",
    "        9, 4, 6, 13, 15, 41, 43, 39, 40, 42, 44, 46, 48, 53, 51, 49, 47, 45, 36, 37, 38, 27, 28, 29, 20, 18,\n",
    "        16, 14, 12, 17, 19, 21, 23, 25, 26, 22, 24\n",
    "    ],\n",
    "    'NanoZ': [\n",
    "        34, 36, 38, 40, 42, 44, 46, 48, 47, 45, 43, 41, 39, 37, 35, 33, 57, 59, 62, 64, 50, 52, 54, 56, 55, 53,\n",
    "        51, 49, 63, 61, 60, 58, 1, 3, 5, 7, 9, 11, 13, 15, 16, 14, 12, 10, 8, 6, 4, 2, 26, 28, 29, 31, 17, 19, 21,\n",
    "        23, 24, 22, 20, 18, 32, 30, 27, 25\n",
    "    ],\n",
    "    'HIRES_4x16_flipchip': [\n",
    "        18, 20, 21, 23, 24, 25, 26, 27, 31, 30, 29, 32, 28, 22, 19, 17, 48, 46, 43, 37, 33, 36, 35, 34, 38, 39, 40, 41,\n",
    "        42, 44, 45, 47, 1, 3, 6, 8, 10, 12, 14, 16, 15, 13, 11, 9, 7, 5, 4, 2, 63, 61, 60, 58, 56, 54, 52, 50, 49, 51,\n",
    "        53, 55, 57, 59, 62, 64\n",
    "    ]\n",
    "}"
   ]
  },
  {
   "cell_type": "code",
   "execution_count": 8,
   "metadata": {
    "collapsed": false
   },
   "outputs": [
    {
     "data": {
      "text/plain": [
       "15"
      ]
     },
     "execution_count": 8,
     "metadata": {},
     "output_type": "execute_result"
    }
   ],
   "source": [
    "SGL_64['Neuronexus'].index(55)"
   ]
  },
  {
   "cell_type": "code",
   "execution_count": null,
   "metadata": {
    "collapsed": true
   },
   "outputs": [],
   "source": []
  },
  {
   "cell_type": "code",
   "execution_count": 9,
   "metadata": {
    "collapsed": true
   },
   "outputs": [],
   "source": [
    "def convert_sites_to_channels(site_groups, acq_channels_numbers, acq_site_mapping):\n",
    "    \"\"\"\n",
    "    This maps sites to channels for geometries and the site lists. Also checks for integrity of site lists.\n",
    "    \n",
    "    site_groups is a dictionary with sites and geometries keys.\n",
    "    acq_channel_numbers is a list of channels in order from the acquistion system (ie a range from 0-63).\n",
    "    acq_site_mapping is a list of site numbers corresponding to the acquisition channel numbers specified above.\n",
    "    \n",
    "    \n",
    "    So this will map:\n",
    "        site_groups {\n",
    "            0: {\n",
    "            'sites': [46,45,44]\n",
    "            }\n",
    "        }\n",
    "        acq_channel_numbers = [1,2,3]\n",
    "        acq_site_mapping = [45, 46, 46]\n",
    "        \n",
    "        to:\n",
    "        site_groups {\n",
    "            0: {\n",
    "            'sites': [3, 2, 1]\n",
    "            }\n",
    "        }\n",
    "    \"\"\"\n",
    "    all_ch = []\n",
    "    for k, v in site_groups.items():\n",
    "        all_ch.extend(v['sites'])\n",
    "    print (\"{0} sites found on all groups.\".format(len(all_ch)))\n",
    "    bad = False\n",
    "    for i in all_ch:\n",
    "        nmatches = 0\n",
    "        for ii in all_ch:\n",
    "            if ii == i:\n",
    "                nmatches += 1\n",
    "        if nmatches >= 2:\n",
    "            print (\"ERROR: duplicate site of number {0} found.\".format(i))\n",
    "            bad = True\n",
    "    if bad:\n",
    "        return None\n",
    "    else:\n",
    "        print (\"No duplicate channels.\")\n",
    "        \n",
    "    for k, v in site_groups.items():\n",
    "        site_list = v['sites']\n",
    "        geo = v['geometry'].keys()\n",
    "        \n",
    "        assert len(site_list) == len(geo)\n",
    "        \n",
    "        for s in site_list:\n",
    "            if s not in geo:\n",
    "                raise ValueError('Site {0} specified in \"sites\" but not in \"geometry\" for shank {1}'.format(s, k))\n",
    "        for s in geo:\n",
    "            if s not in site_list:\n",
    "                raise ValueError('Site {0} specified in \"geometry\" but not \"sites\" for shank {1}'.format(s, k))        \n",
    "    print('Site and geometry lists are congruent.')\n",
    "    \n",
    "    channel_groups = {}\n",
    "    for g, v in site_groups.items():\n",
    "        channel_group = {}\n",
    "        channels = []\n",
    "        geometry = {}\n",
    "        for s in v['sites']:\n",
    "            site_idx = acq_site_mapping.index(s)\n",
    "            ch = acq_channels_numbers[site_idx]\n",
    "            channels.append(ch)\n",
    "        channel_group['channels'] = channels\n",
    "        \n",
    "        for s, pos in v['geometry'].items():\n",
    "            site_idx = acq_site_mapping.index(s)\n",
    "            ch = acq_channels_numbers[site_idx]\n",
    "            geometry[ch] = pos\n",
    "        channel_group['geometry'] = geometry\n",
    "        \n",
    "        graph = []\n",
    "        for edge in v['graph']:\n",
    "            new_edge = []\n",
    "            for node in edge:\n",
    "                new_edge.append(acq_channels_numbers[acq_site_mapping.index(node)])\n",
    "            graph.append(new_edge)\n",
    "        channel_group['graph'] = graph\n",
    "        channel_groups[g] = channel_group\n",
    "        \n",
    "    return channel_groups"
   ]
  },
  {
   "cell_type": "code",
   "execution_count": null,
   "metadata": {
    "collapsed": true
   },
   "outputs": [],
   "source": []
  },
  {
   "cell_type": "code",
   "execution_count": 10,
   "metadata": {
    "collapsed": false
   },
   "outputs": [
    {
     "name": "stdout",
     "output_type": "stream",
     "text": [
      "64 sites found on all groups.\n",
      "No duplicate channels.\n",
      "Site and geometry lists are congruent.\n"
     ]
    }
   ],
   "source": [
    "channel_groups = convert_sites_to_channels(site_groups, SGL_64['raw_channels'], SGL_64['Neuronexus'])"
   ]
  },
  {
   "cell_type": "code",
   "execution_count": 11,
   "metadata": {
    "collapsed": true
   },
   "outputs": [],
   "source": [
    "import matplotlib.pyplot as plt\n",
    "%matplotlib inline"
   ]
  },
  {
   "cell_type": "code",
   "execution_count": 12,
   "metadata": {
    "collapsed": false
   },
   "outputs": [
    {
     "data": {
      "image/png": "[encoded data removed]",
      "text/plain": [
       "<matplotlib.figure.Figure at 0x7f628f2924e0>"
      ]
     },
     "metadata": {},
     "output_type": "display_data"
    }
   ],
   "source": [
    "for k, v in site_groups.items():\n",
    "    for kk, vv in v['geometry'].items():\n",
    "        plt.plot(vv[0], vv[1], 'ko')\n",
    "        plt.text(vv[0], vv[1], str(kk))"
   ]
  },
  {
   "cell_type": "code",
   "execution_count": 13,
   "metadata": {
    "collapsed": false
   },
   "outputs": [
    {
     "data": {
      "image/png": "[encoded data removed]",
      "text/plain": [
       "<matplotlib.figure.Figure at 0x7f628cad1780>"
      ]
     },
     "metadata": {},
     "output_type": "display_data"
    }
   ],
   "source": [
    "for k, v in channel_groups.items():\n",
    "    for kk, vv in v['geometry'].items():\n",
    "        plt.plot(vv[0], vv[1], 'ko')\n",
    "        plt.text(vv[0], vv[1], str(kk))"
   ]
  },
  {
   "cell_type": "code",
   "execution_count": 14,
   "metadata": {
    "collapsed": false
   },
   "outputs": [
    {
     "name": "stdout",
     "output_type": "stream",
     "text": [
      "{0: {'graph': [[24, 25], [24, 17], [24, 26], [26, 17], [26, 27], [26, 21], [21, 27], [21, 16], [21, 28], [28, 16], [28, 18], [28, 19], [19, 18], [19, 55], [19, 29], [29, 55], [29, 30], [25, 54], [25, 17], [17, 54], [17, 57], [17, 27], [27, 57], [27, 31], [27, 16], [16, 31], [16, 52], [16, 18], [18, 52], [18, 53], [18, 55], [55, 53], [55, 56], [55, 30], [30, 56], [54, 61], [54, 60], [54, 57], [57, 60], [57, 63], [57, 31], [31, 63], [31, 59], [31, 52], [52, 59], [52, 62], [52, 53], [53, 62], [53, 58], [53, 56], [56, 58], [56, 51], [61, 20], [61, 60], [60, 20], [60, 23], [60, 63], [63, 23], [63, 22], [63, 59], [59, 22], [59, 50], [59, 62], [62, 50], [62, 49], [62, 58], [58, 49], [58, 48], [58, 51], [51, 48], [20, 23], [23, 22], [22, 50], [50, 49], [49, 48]], 'geometry': {16: (14, 84), 17: (14, 28), 18: (14, 112), 19: (0, 126), 20: (56, 14), 21: (0, 70), 22: (56, 70), 23: (56, 42), 24: (0, 14), 25: (14, 0), 26: (0, 42), 27: (14, 56), 28: (0, 98), 29: (0, 154), 30: (14, 168), 31: (28, 70), 48: (56, 154), 49: (56, 126), 50: (56, 98), 51: (42, 168), 52: (28, 98), 53: (28, 126), 54: (28, 14), 55: (14, 140), 56: (28, 154), 57: (28, 42), 58: (42, 140), 59: (42, 84), 60: (42, 28), 61: (42, 0), 62: (42, 112), 63: (42, 56)}, 'channels': [24, 26, 21, 28, 19, 29, 25, 17, 27, 16, 18, 55, 30, 54, 31, 53, 56, 52, 57, 51, 58, 62, 59, 63, 60, 61, 48, 49, 50, 22, 23, 20]}, 1: {'graph': [[11, 34], [11, 35], [11, 8], [8, 35], [8, 32], [8, 9], [9, 32], [9, 36], [9, 45], [45, 36], [45, 33], [45, 46], [46, 33], [46, 37], [46, 47], [47, 37], [47, 44], [34, 38], [34, 35], [35, 38], [35, 41], [35, 32], [32, 41], [32, 43], [32, 36], [36, 43], [36, 0], [36, 33], [33, 0], [33, 39], [33, 37], [37, 39], [37, 42], [37, 44], [44, 42], [38, 6], [38, 14], [38, 41], [41, 14], [41, 4], [41, 43], [43, 4], [43, 15], [43, 0], [0, 15], [0, 13], [0, 39], [39, 13], [39, 40], [39, 42], [42, 40], [42, 1], [6, 7], [6, 14], [14, 7], [14, 5], [14, 4], [4, 5], [4, 10], [4, 15], [15, 10], [15, 3], [15, 13], [13, 3], [13, 12], [13, 40], [40, 12], [40, 2], [40, 1], [1, 2], [7, 5], [5, 10], [10, 3], [3, 12], [12, 2]], 'geometry': {0: (228, 98), 1: (242, 168), 2: (256, 154), 3: (256, 98), 4: (242, 56), 5: (256, 42), 6: (242, 0), 7: (256, 14), 8: (200, 42), 9: (200, 70), 10: (256, 70), 11: (200, 14), 12: (256, 126), 13: (242, 112), 14: (242, 28), 15: (242, 84), 32: (214, 56), 33: (214, 112), 34: (214, 0), 35: (214, 28), 36: (214, 84), 37: (214, 140), 38: (228, 14), 39: (228, 126), 40: (242, 140), 41: (228, 42), 42: (228, 154), 43: (228, 70), 44: (214, 168), 45: (200, 98), 46: (200, 126), 47: (200, 154)}, 'channels': [11, 8, 9, 45, 46, 47, 34, 35, 32, 36, 33, 37, 44, 38, 43, 39, 42, 0, 41, 1, 40, 13, 15, 4, 14, 6, 2, 12, 3, 10, 5, 7]}}\n"
     ]
    }
   ],
   "source": [
    "print (channel_groups)"
   ]
  },
  {
   "cell_type": "code",
   "execution_count": 17,
   "metadata": {
    "collapsed": false
   },
   "outputs": [],
   "source": [
    "a = [2,3,2]"
   ]
  },
  {
   "cell_type": "code",
   "execution_count": 18,
   "metadata": {
    "collapsed": true
   },
   "outputs": [],
   "source": [
    "a[0]+=1"
   ]
  },
  {
   "cell_type": "code",
   "execution_count": 19,
   "metadata": {
    "collapsed": false
   },
   "outputs": [
    {
     "data": {
      "text/plain": [
       "[3, 3, 2]"
      ]
     },
     "execution_count": 19,
     "metadata": {},
     "output_type": "execute_result"
    }
   ],
   "source": [
    "a"
   ]
  },
  {
   "cell_type": "code",
   "execution_count": null,
   "metadata": {
    "collapsed": true
   },
   "outputs": [],
   "source": []
  },
  {
   "cell_type": "code",
   "execution_count": 15,
   "metadata": {
    "collapsed": false,
    "scrolled": true
   },
   "outputs": [],
   "source": []
  },
  {
   "cell_type": "code",
   "execution_count": 26,
   "metadata": {
    "collapsed": false
   },
   "outputs": [],
   "source": [
    "new_cgs = dict()\n",
    "for k, v in channel_groups.items():\n",
    "    new_cg = {}\n",
    "    new_geo = {}\n",
    "    new_chs = []\n",
    "    new_graph = []\n",
    "    for kk, vv in v['geometry'].items():\n",
    "        new_geo[kk+64] = (vv[0]+ 400, vv[1])\n",
    "    for ch in v['channels']:\n",
    "        new_chs.append(ch+64)\n",
    "    new_cg['geometry'] = new_geo\n",
    "    new_cg['channels'] = new_chs\n",
    "    new_cg['graph'] = new_graph\n",
    "    \n",
    "    \n",
    "    new_cgs[k+2] = new_cg\n",
    "    "
   ]
  },
  {
   "cell_type": "code",
   "execution_count": 29,
   "metadata": {
    "collapsed": true
   },
   "outputs": [],
   "source": [
    "channel_groups.update(new_cgs)"
   ]
  },
  {
   "cell_type": "code",
   "execution_count": 30,
   "metadata": {
    "collapsed": false
   },
   "outputs": [
    {
     "data": {
      "text/plain": [
       "{0: {'channels': [24,\n",
       "   26,\n",
       "   21,\n",
       "   28,\n",
       "   19,\n",
       "   29,\n",
       "   25,\n",
       "   17,\n",
       "   27,\n",
       "   16,\n",
       "   18,\n",
       "   55,\n",
       "   30,\n",
       "   54,\n",
       "   31,\n",
       "   53,\n",
       "   56,\n",
       "   52,\n",
       "   57,\n",
       "   51,\n",
       "   58,\n",
       "   62,\n",
       "   59,\n",
       "   63,\n",
       "   60,\n",
       "   61,\n",
       "   48,\n",
       "   49,\n",
       "   50,\n",
       "   22,\n",
       "   23,\n",
       "   20],\n",
       "  'geometry': {16: (14, 84),\n",
       "   17: (14, 28),\n",
       "   18: (14, 112),\n",
       "   19: (0, 126),\n",
       "   20: (56, 14),\n",
       "   21: (0, 70),\n",
       "   22: (56, 70),\n",
       "   23: (56, 42),\n",
       "   24: (0, 14),\n",
       "   25: (14, 0),\n",
       "   26: (0, 42),\n",
       "   27: (14, 56),\n",
       "   28: (0, 98),\n",
       "   29: (0, 154),\n",
       "   30: (14, 168),\n",
       "   31: (28, 70),\n",
       "   48: (56, 154),\n",
       "   49: (56, 126),\n",
       "   50: (56, 98),\n",
       "   51: (42, 168),\n",
       "   52: (28, 98),\n",
       "   53: (28, 126),\n",
       "   54: (28, 14),\n",
       "   55: (14, 140),\n",
       "   56: (28, 154),\n",
       "   57: (28, 42),\n",
       "   58: (42, 140),\n",
       "   59: (42, 84),\n",
       "   60: (42, 28),\n",
       "   61: (42, 0),\n",
       "   62: (42, 112),\n",
       "   63: (42, 56)},\n",
       "  'graph': [[24, 25],\n",
       "   [24, 17],\n",
       "   [24, 26],\n",
       "   [26, 17],\n",
       "   [26, 27],\n",
       "   [26, 21],\n",
       "   [21, 27],\n",
       "   [21, 16],\n",
       "   [21, 28],\n",
       "   [28, 16],\n",
       "   [28, 18],\n",
       "   [28, 19],\n",
       "   [19, 18],\n",
       "   [19, 55],\n",
       "   [19, 29],\n",
       "   [29, 55],\n",
       "   [29, 30],\n",
       "   [25, 54],\n",
       "   [25, 17],\n",
       "   [17, 54],\n",
       "   [17, 57],\n",
       "   [17, 27],\n",
       "   [27, 57],\n",
       "   [27, 31],\n",
       "   [27, 16],\n",
       "   [16, 31],\n",
       "   [16, 52],\n",
       "   [16, 18],\n",
       "   [18, 52],\n",
       "   [18, 53],\n",
       "   [18, 55],\n",
       "   [55, 53],\n",
       "   [55, 56],\n",
       "   [55, 30],\n",
       "   [30, 56],\n",
       "   [54, 61],\n",
       "   [54, 60],\n",
       "   [54, 57],\n",
       "   [57, 60],\n",
       "   [57, 63],\n",
       "   [57, 31],\n",
       "   [31, 63],\n",
       "   [31, 59],\n",
       "   [31, 52],\n",
       "   [52, 59],\n",
       "   [52, 62],\n",
       "   [52, 53],\n",
       "   [53, 62],\n",
       "   [53, 58],\n",
       "   [53, 56],\n",
       "   [56, 58],\n",
       "   [56, 51],\n",
       "   [61, 20],\n",
       "   [61, 60],\n",
       "   [60, 20],\n",
       "   [60, 23],\n",
       "   [60, 63],\n",
       "   [63, 23],\n",
       "   [63, 22],\n",
       "   [63, 59],\n",
       "   [59, 22],\n",
       "   [59, 50],\n",
       "   [59, 62],\n",
       "   [62, 50],\n",
       "   [62, 49],\n",
       "   [62, 58],\n",
       "   [58, 49],\n",
       "   [58, 48],\n",
       "   [58, 51],\n",
       "   [51, 48],\n",
       "   [20, 23],\n",
       "   [23, 22],\n",
       "   [22, 50],\n",
       "   [50, 49],\n",
       "   [49, 48]]},\n",
       " 1: {'channels': [11,\n",
       "   8,\n",
       "   9,\n",
       "   45,\n",
       "   46,\n",
       "   47,\n",
       "   34,\n",
       "   35,\n",
       "   32,\n",
       "   36,\n",
       "   33,\n",
       "   37,\n",
       "   44,\n",
       "   38,\n",
       "   43,\n",
       "   39,\n",
       "   42,\n",
       "   0,\n",
       "   41,\n",
       "   1,\n",
       "   40,\n",
       "   13,\n",
       "   15,\n",
       "   4,\n",
       "   14,\n",
       "   6,\n",
       "   2,\n",
       "   12,\n",
       "   3,\n",
       "   10,\n",
       "   5,\n",
       "   7],\n",
       "  'geometry': {0: (228, 98),\n",
       "   1: (242, 168),\n",
       "   2: (256, 154),\n",
       "   3: (256, 98),\n",
       "   4: (242, 56),\n",
       "   5: (256, 42),\n",
       "   6: (242, 0),\n",
       "   7: (256, 14),\n",
       "   8: (200, 42),\n",
       "   9: (200, 70),\n",
       "   10: (256, 70),\n",
       "   11: (200, 14),\n",
       "   12: (256, 126),\n",
       "   13: (242, 112),\n",
       "   14: (242, 28),\n",
       "   15: (242, 84),\n",
       "   32: (214, 56),\n",
       "   33: (214, 112),\n",
       "   34: (214, 0),\n",
       "   35: (214, 28),\n",
       "   36: (214, 84),\n",
       "   37: (214, 140),\n",
       "   38: (228, 14),\n",
       "   39: (228, 126),\n",
       "   40: (242, 140),\n",
       "   41: (228, 42),\n",
       "   42: (228, 154),\n",
       "   43: (228, 70),\n",
       "   44: (214, 168),\n",
       "   45: (200, 98),\n",
       "   46: (200, 126),\n",
       "   47: (200, 154)},\n",
       "  'graph': [[11, 34],\n",
       "   [11, 35],\n",
       "   [11, 8],\n",
       "   [8, 35],\n",
       "   [8, 32],\n",
       "   [8, 9],\n",
       "   [9, 32],\n",
       "   [9, 36],\n",
       "   [9, 45],\n",
       "   [45, 36],\n",
       "   [45, 33],\n",
       "   [45, 46],\n",
       "   [46, 33],\n",
       "   [46, 37],\n",
       "   [46, 47],\n",
       "   [47, 37],\n",
       "   [47, 44],\n",
       "   [34, 38],\n",
       "   [34, 35],\n",
       "   [35, 38],\n",
       "   [35, 41],\n",
       "   [35, 32],\n",
       "   [32, 41],\n",
       "   [32, 43],\n",
       "   [32, 36],\n",
       "   [36, 43],\n",
       "   [36, 0],\n",
       "   [36, 33],\n",
       "   [33, 0],\n",
       "   [33, 39],\n",
       "   [33, 37],\n",
       "   [37, 39],\n",
       "   [37, 42],\n",
       "   [37, 44],\n",
       "   [44, 42],\n",
       "   [38, 6],\n",
       "   [38, 14],\n",
       "   [38, 41],\n",
       "   [41, 14],\n",
       "   [41, 4],\n",
       "   [41, 43],\n",
       "   [43, 4],\n",
       "   [43, 15],\n",
       "   [43, 0],\n",
       "   [0, 15],\n",
       "   [0, 13],\n",
       "   [0, 39],\n",
       "   [39, 13],\n",
       "   [39, 40],\n",
       "   [39, 42],\n",
       "   [42, 40],\n",
       "   [42, 1],\n",
       "   [6, 7],\n",
       "   [6, 14],\n",
       "   [14, 7],\n",
       "   [14, 5],\n",
       "   [14, 4],\n",
       "   [4, 5],\n",
       "   [4, 10],\n",
       "   [4, 15],\n",
       "   [15, 10],\n",
       "   [15, 3],\n",
       "   [15, 13],\n",
       "   [13, 3],\n",
       "   [13, 12],\n",
       "   [13, 40],\n",
       "   [40, 12],\n",
       "   [40, 2],\n",
       "   [40, 1],\n",
       "   [1, 2],\n",
       "   [7, 5],\n",
       "   [5, 10],\n",
       "   [10, 3],\n",
       "   [3, 12],\n",
       "   [12, 2]]},\n",
       " 2: {'channels': [88,\n",
       "   90,\n",
       "   85,\n",
       "   92,\n",
       "   83,\n",
       "   93,\n",
       "   89,\n",
       "   81,\n",
       "   91,\n",
       "   80,\n",
       "   82,\n",
       "   119,\n",
       "   94,\n",
       "   118,\n",
       "   95,\n",
       "   117,\n",
       "   120,\n",
       "   116,\n",
       "   121,\n",
       "   115,\n",
       "   122,\n",
       "   126,\n",
       "   123,\n",
       "   127,\n",
       "   124,\n",
       "   125,\n",
       "   112,\n",
       "   113,\n",
       "   114,\n",
       "   86,\n",
       "   87,\n",
       "   84],\n",
       "  'geometry': {80: (414, 84),\n",
       "   81: (414, 28),\n",
       "   82: (414, 112),\n",
       "   83: (400, 126),\n",
       "   84: (456, 14),\n",
       "   85: (400, 70),\n",
       "   86: (456, 70),\n",
       "   87: (456, 42),\n",
       "   88: (400, 14),\n",
       "   89: (414, 0),\n",
       "   90: (400, 42),\n",
       "   91: (414, 56),\n",
       "   92: (400, 98),\n",
       "   93: (400, 154),\n",
       "   94: (414, 168),\n",
       "   95: (428, 70),\n",
       "   112: (456, 154),\n",
       "   113: (456, 126),\n",
       "   114: (456, 98),\n",
       "   115: (442, 168),\n",
       "   116: (428, 98),\n",
       "   117: (428, 126),\n",
       "   118: (428, 14),\n",
       "   119: (414, 140),\n",
       "   120: (428, 154),\n",
       "   121: (428, 42),\n",
       "   122: (442, 140),\n",
       "   123: (442, 84),\n",
       "   124: (442, 28),\n",
       "   125: (442, 0),\n",
       "   126: (442, 112),\n",
       "   127: (442, 56)},\n",
       "  'graph': []},\n",
       " 3: {'channels': [75,\n",
       "   72,\n",
       "   73,\n",
       "   109,\n",
       "   110,\n",
       "   111,\n",
       "   98,\n",
       "   99,\n",
       "   96,\n",
       "   100,\n",
       "   97,\n",
       "   101,\n",
       "   108,\n",
       "   102,\n",
       "   107,\n",
       "   103,\n",
       "   106,\n",
       "   64,\n",
       "   105,\n",
       "   65,\n",
       "   104,\n",
       "   77,\n",
       "   79,\n",
       "   68,\n",
       "   78,\n",
       "   70,\n",
       "   66,\n",
       "   76,\n",
       "   67,\n",
       "   74,\n",
       "   69,\n",
       "   71],\n",
       "  'geometry': {64: (628, 98),\n",
       "   65: (642, 168),\n",
       "   66: (656, 154),\n",
       "   67: (656, 98),\n",
       "   68: (642, 56),\n",
       "   69: (656, 42),\n",
       "   70: (642, 0),\n",
       "   71: (656, 14),\n",
       "   72: (600, 42),\n",
       "   73: (600, 70),\n",
       "   74: (656, 70),\n",
       "   75: (600, 14),\n",
       "   76: (656, 126),\n",
       "   77: (642, 112),\n",
       "   78: (642, 28),\n",
       "   79: (642, 84),\n",
       "   96: (614, 56),\n",
       "   97: (614, 112),\n",
       "   98: (614, 0),\n",
       "   99: (614, 28),\n",
       "   100: (614, 84),\n",
       "   101: (614, 140),\n",
       "   102: (628, 14),\n",
       "   103: (628, 126),\n",
       "   104: (642, 140),\n",
       "   105: (628, 42),\n",
       "   106: (628, 154),\n",
       "   107: (628, 70),\n",
       "   108: (614, 168),\n",
       "   109: (600, 98),\n",
       "   110: (600, 126),\n",
       "   111: (600, 154)},\n",
       "  'graph': []}}"
      ]
     },
     "execution_count": 30,
     "metadata": {},
     "output_type": "execute_result"
    }
   ],
   "source": [
    "channel_groups"
   ]
  },
  {
   "cell_type": "code",
   "execution_count": 31,
   "metadata": {
    "collapsed": false
   },
   "outputs": [
    {
     "data": {
      "image/png": "[encoded data removed]",
      "text/plain": [
       "<matplotlib.figure.Figure at 0x7f628c933eb8>"
      ]
     },
     "metadata": {},
     "output_type": "display_data"
    }
   ],
   "source": [
    "for k, v in channel_groups.items():\n",
    "    for kk, vv in v['geometry'].items():\n",
    "        plt.plot(vv[0], vv[1], 'ko')\n",
    "        plt.text(vv[0], vv[1], str(kk))"
   ]
  },
  {
   "cell_type": "code",
   "execution_count": 32,
   "metadata": {
    "collapsed": true
   },
   "outputs": [],
   "source": [
    "f = open('/home/cdw291/probes/whisper/Double_A2x32-Poly5_whisper_spyking.prb', 'w')\n",
    "# pickle.dump(channel_groups, f, 0)\n",
    "f.write(\"channel_groups = {0}\".format(channel_groups.__str__()))\n",
    "f.close()"
   ]
  },
  {
   "cell_type": "code",
   "execution_count": null,
   "metadata": {
    "collapsed": true
   },
   "outputs": [],
   "source": []
  }
 ],
 "metadata": {
  "kernelspec": {
   "display_name": "Python 3",
   "language": "python",
   "name": "python3"
  },
  "language_info": {
   "codemirror_mode": {
    "name": "ipython",
    "version": 3
   },
   "file_extension": ".py",
   "mimetype": "text/x-python",
   "name": "python",
   "nbconvert_exporter": "python",
   "pygments_lexer": "ipython3",
   "version": "3.5.1"
  }
 },
 "nbformat": 4,
 "nbformat_minor": 0
}
