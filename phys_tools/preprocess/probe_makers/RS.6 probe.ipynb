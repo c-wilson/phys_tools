{
 "cells": [
  {
   "cell_type": "code",
   "execution_count": 1,
   "metadata": {
    "collapsed": true
   },
   "outputs": [],
   "source": [
    "import numpy as np\n",
    "import matplotlib.pyplot as plt\n",
    "%matplotlib inline"
   ]
  },
  {
   "cell_type": "code",
   "execution_count": 2,
   "metadata": {
    "collapsed": true
   },
   "outputs": [],
   "source": [
    "sitemap = [\n",
    "    [8,9,4,1],\n",
    "    [11,10,12,5,2,],\n",
    "    [14,15,13,6,3],\n",
    "    [17,16,18,7],\n",
    "    [20,19,21,27,30],\n",
    "    [23,24,22,28,31],\n",
    "    [26,25,29,32]\n",
    "]\n",
    "for x in sitemap:\n",
    "    x.reverse()"
   ]
  },
  {
   "cell_type": "code",
   "execution_count": 3,
   "metadata": {
    "collapsed": true
   },
   "outputs": [],
   "source": [
    "x_step = 5.6\n",
    "y_step = 11.2\n",
    "\n",
    "y_offsets = [y_step, \n",
    "           y_step/2, \n",
    "           0., \n",
    "           y_step/2, \n",
    "           0., \n",
    "           y_step/2,\n",
    "           y_step]"
   ]
  },
  {
   "cell_type": "code",
   "execution_count": 4,
   "metadata": {
    "collapsed": true
   },
   "outputs": [],
   "source": [
    "x_offsets = [x * x_step for x in range(7)]"
   ]
  },
  {
   "cell_type": "code",
   "execution_count": 5,
   "metadata": {
    "collapsed": false
   },
   "outputs": [],
   "source": [
    "site_positions = []\n",
    "\n",
    "for i in range(len(sitemap)):\n",
    "    row_positions = []\n",
    "    x_offset = x_offsets[i]\n",
    "    y_offset = y_offsets[i]\n",
    "    for j in range(len(sitemap[i])):\n",
    "        y = int(j*y_step + y_offset)\n",
    "        x = int(x_offset)\n",
    "        row_positions.append((x,y))\n",
    "    site_positions.append(row_positions)"
   ]
  },
  {
   "cell_type": "code",
   "execution_count": 6,
   "metadata": {
    "collapsed": false
   },
   "outputs": [
    {
     "data": {
      "image/png": "[encoded data removed]",
      "text/plain": [
       "<matplotlib.figure.Figure at 0x1103889e8>"
      ]
     },
     "metadata": {},
     "output_type": "display_data"
    }
   ],
   "source": [
    "for row in site_positions:\n",
    "    for site in row:\n",
    "        plt.plot(site[0], site[1], 'ob')"
   ]
  },
  {
   "cell_type": "code",
   "execution_count": 7,
   "metadata": {
    "collapsed": false
   },
   "outputs": [
    {
     "data": {
      "image/png": "[encoded data removed]",
      "text/plain": [
       "<matplotlib.figure.Figure at 0x11392f2e8>"
      ]
     },
     "metadata": {},
     "output_type": "display_data"
    }
   ],
   "source": [
    "fig = plt.figure()\n",
    "fig.suptitle('RS.6 sitemap', fontsize=14, fontweight='bold')\n",
    "\n",
    "ax = fig.add_subplot(111)\n",
    "\n",
    "for i in range(len(site_positions)):\n",
    "    row_pos = site_positions[i]\n",
    "    \n",
    "    for j in range(len(row_pos)):\n",
    "        site = row_pos[j]\n",
    "        sit_num = sitemap[i][j]\n",
    "        ax.text(site[0], site[1], str(sit_num))\n",
    "        ax.plot(site[0], site[1], '.b')\n",
    "    ax.set_ylim([-5,55])\n",
    "    ax.set_xlim([-2,35])\n",
    "    ax.set_xticks(x_offsets)\n",
    "    ax.set_yticks([x * y_step for x in range(5)])"
   ]
  },
  {
   "cell_type": "code",
   "execution_count": 8,
   "metadata": {
    "collapsed": true
   },
   "outputs": [],
   "source": [
    "a = '''31\n",
    "29\n",
    "28\n",
    "26\n",
    "24\n",
    "22\n",
    "20\n",
    "19\n",
    "17\n",
    "18\n",
    "21\n",
    "23\n",
    "25\n",
    "27\n",
    "30\n",
    "32\n",
    "1\n",
    "3\n",
    "6\n",
    "8\n",
    "10\n",
    "12\n",
    "14\n",
    "16\n",
    "15\n",
    "13\n",
    "11\n",
    "9\n",
    "7\n",
    "5\n",
    "4\n",
    "2'''\n",
    "sites = [int(x) for x in a.splitlines()]"
   ]
  },
  {
   "cell_type": "code",
   "execution_count": 9,
   "metadata": {
    "collapsed": true
   },
   "outputs": [],
   "source": [
    "b = '''0\n",
    "1\n",
    "2\n",
    "3\n",
    "4\n",
    "5\n",
    "6\n",
    "7\n",
    "8\n",
    "9\n",
    "10\n",
    "11\n",
    "12\n",
    "13\n",
    "14\n",
    "15\n",
    "16\n",
    "17\n",
    "18\n",
    "19\n",
    "20\n",
    "21\n",
    "22\n",
    "23\n",
    "24\n",
    "25\n",
    "26\n",
    "27\n",
    "28\n",
    "29\n",
    "30\n",
    "31'''\n",
    "channels = [int(x) for x in b.splitlines()]"
   ]
  },
  {
   "cell_type": "code",
   "execution_count": 10,
   "metadata": {
    "collapsed": true
   },
   "outputs": [],
   "source": [
    "channel_map = []\n",
    "for r in sitemap:\n",
    "    ch_row = []\n",
    "    for s in r:\n",
    "        i = sites.index(s)\n",
    "        ch = channels[i]\n",
    "        ch_row.append(ch)\n",
    "    channel_map.append(ch_row)"
   ]
  },
  {
   "cell_type": "code",
   "execution_count": 11,
   "metadata": {
    "collapsed": false
   },
   "outputs": [
    {
     "data": {
      "image/png": "[encoded data removed]",
      "text/plain": [
       "<matplotlib.figure.Figure at 0x1139f9128>"
      ]
     },
     "metadata": {},
     "output_type": "display_data"
    }
   ],
   "source": [
    "fig = plt.figure()\n",
    "fig.suptitle('RS.6 sitemap', fontsize=14, fontweight='bold')\n",
    "\n",
    "ax = fig.add_subplot(111)\n",
    "\n",
    "for i in range(len(site_positions)):\n",
    "    row_pos = site_positions[i]\n",
    "    \n",
    "    for j in range(len(row_pos)):\n",
    "        site = row_pos[j]\n",
    "        sit_num = channel_map[i][j]\n",
    "        ax.text(site[0], site[1], str(sit_num))\n",
    "        ax.plot(site[0], site[1], '.b')\n",
    "    ax.set_ylim([-5,55])\n",
    "    ax.set_xlim([-2,35])\n",
    "    ax.set_xticks(x_offsets)\n",
    "    ax.set_yticks([x * y_step for x in range(5)])"
   ]
  },
  {
   "cell_type": "code",
   "execution_count": 12,
   "metadata": {
    "collapsed": false
   },
   "outputs": [],
   "source": [
    "all_chs = list()\n",
    "for x in channel_map:\n",
    "    all_chs.extend(x)"
   ]
  },
  {
   "cell_type": "code",
   "execution_count": 13,
   "metadata": {
    "collapsed": true
   },
   "outputs": [],
   "source": [
    "channel_geometry = dict()\n",
    "for i in range(len(site_positions)):\n",
    "    row_pos = site_positions[i]\n",
    "    for j in range(len(row_pos)):\n",
    "        site_pos = row_pos[j]\n",
    "        ch_number = channel_map[i][j]\n",
    "        channel_geometry[ch_number] = site_pos"
   ]
  },
  {
   "cell_type": "code",
   "execution_count": 14,
   "metadata": {
    "collapsed": false
   },
   "outputs": [
    {
     "data": {
      "text/plain": [
       "{0: (28, 5),\n",
       " 1: (33, 22),\n",
       " 2: (28, 16),\n",
       " 3: (33, 44),\n",
       " 4: (28, 39),\n",
       " 5: (28, 28),\n",
       " 6: (22, 44),\n",
       " 7: (22, 33),\n",
       " 8: (16, 39),\n",
       " 9: (16, 16),\n",
       " 10: (22, 22),\n",
       " 11: (28, 50),\n",
       " 12: (33, 33),\n",
       " 13: (22, 11),\n",
       " 14: (22, 0),\n",
       " 15: (33, 11),\n",
       " 16: (0, 11),\n",
       " 17: (11, 0),\n",
       " 18: (11, 11),\n",
       " 19: (0, 44),\n",
       " 20: (5, 39),\n",
       " 21: (5, 28),\n",
       " 22: (11, 44),\n",
       " 23: (16, 28),\n",
       " 24: (11, 33),\n",
       " 25: (11, 22),\n",
       " 26: (5, 50),\n",
       " 27: (0, 33),\n",
       " 28: (16, 5),\n",
       " 29: (5, 16),\n",
       " 30: (0, 22),\n",
       " 31: (5, 5)}"
      ]
     },
     "execution_count": 14,
     "metadata": {},
     "output_type": "execute_result"
    }
   ],
   "source": [
    "channel_geometry"
   ]
  },
  {
   "cell_type": "code",
   "execution_count": 15,
   "metadata": {
    "collapsed": false
   },
   "outputs": [],
   "source": [
    "channel_group_0 = dict(channels=all_chs, graph = [], geometry=channel_geometry)\n",
    "channel_groups = dict()\n",
    "channel_groups[0] = channel_group_0"
   ]
  },
  {
   "cell_type": "code",
   "execution_count": 16,
   "metadata": {
    "collapsed": false
   },
   "outputs": [
    {
     "name": "stdout",
     "output_type": "stream",
     "text": [
      "{0: {'channels': [16, 30, 27, 19, 31, 29, 21, 20, 26, 17, 18, 25, 24, 22, 28, 9, 23, 8, 14, 13, 10, 7, 6, 0, 2, 5, 4, 11, 15, 1, 12, 3], 'graph': [], 'geometry': {0: (28, 5), 1: (33, 22), 2: (28, 16), 3: (33, 44), 4: (28, 39), 5: (28, 28), 6: (22, 44), 7: (22, 33), 8: (16, 39), 9: (16, 16), 10: (22, 22), 11: (28, 50), 12: (33, 33), 13: (22, 11), 14: (22, 0), 15: (33, 11), 16: (0, 11), 17: (11, 0), 18: (11, 11), 19: (0, 44), 20: (5, 39), 21: (5, 28), 22: (11, 44), 23: (16, 28), 24: (11, 33), 25: (11, 22), 26: (5, 50), 27: (0, 33), 28: (16, 5), 29: (5, 16), 30: (0, 22), 31: (5, 5)}}}\n"
     ]
    }
   ],
   "source": [
    "print(channel_groups)"
   ]
  },
  {
   "cell_type": "code",
   "execution_count": 17,
   "metadata": {
    "collapsed": true
   },
   "outputs": [],
   "source": [
    "f = open('/Users/chris/Data/RS6_whisper.prb', 'w')\n",
    "# pickle.dump(channel_groups, f, 0)\n",
    "f.write(\"channel_groups = {0}\".format(channel_groups.__str__()))\n",
    "f.close()"
   ]
  },
  {
   "cell_type": "code",
   "execution_count": null,
   "metadata": {
    "collapsed": true
   },
   "outputs": [],
   "source": []
  }
 ],
 "metadata": {
  "kernelspec": {
   "display_name": "Python 3",
   "language": "python",
   "name": "python3"
  },
  "language_info": {
   "codemirror_mode": {
    "name": "ipython",
    "version": 3
   },
   "file_extension": ".py",
   "mimetype": "text/x-python",
   "name": "python",
   "nbconvert_exporter": "python",
   "pygments_lexer": "ipython3",
   "version": "3.5.2"
  }
 },
 "nbformat": 4,
 "nbformat_minor": 0
}
