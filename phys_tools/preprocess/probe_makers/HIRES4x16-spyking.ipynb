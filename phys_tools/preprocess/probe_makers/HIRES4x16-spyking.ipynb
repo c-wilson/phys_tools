{
 "cells": [
  {
   "cell_type": "code",
   "execution_count": 1,
   "metadata": {
    "collapsed": false
   },
   "outputs": [],
   "source": [
    "import numpy as np"
   ]
  },
  {
   "cell_type": "code",
   "execution_count": 18,
   "metadata": {
    "collapsed": false
   },
   "outputs": [],
   "source": [
    "def remove_bad_chs(channel_groups, bad_ch_list):\n",
    "    for k, v in channel_groups.items():\n",
    "        for ch in v['channels']:\n",
    "            if ch in bad_ch_list:\n",
    "                idx = v['channels'].index(ch)\n",
    "                v['channels'].pop(idx)\n",
    "                v['geometry'].pop(ch)\n",
    "    return channel_groups\n",
    "\n",
    "def convert_sites_to_channels(site_groups, acq_channels_numbers, acq_site_mapping):\n",
    "    \"\"\"\n",
    "    This maps sites to channels for geometries and the site lists. Also checks for integrity of site lists.\n",
    "    \n",
    "    site_groups is a dictionary with sites and geometries keys.\n",
    "    acq_channel_numbers is a list of channels in order from the acquistion system (ie a range from 0-63).\n",
    "    acq_site_mapping is a list of site numbers corresponding to the acquisition channel numbers specified above.\n",
    "    \n",
    "    \n",
    "    So this will map:\n",
    "        site_groups {\n",
    "            0: {\n",
    "            'sites': [46,45,44]\n",
    "            }\n",
    "        }\n",
    "        acq_channel_numbers = [1,2,3]\n",
    "        acq_site_mapping = [45, 46, 46]\n",
    "        \n",
    "        to:\n",
    "        site_groups {\n",
    "            0: {\n",
    "            'sites': [3, 2, 1]\n",
    "            }\n",
    "        }\n",
    "    \"\"\"\n",
    "    all_ch = []\n",
    "    for k, v in site_groups.items():\n",
    "        all_ch.extend(v['sites'])\n",
    "    print (\"{0} sites found on all groups.\".format(len(all_ch)))\n",
    "    bad = False\n",
    "    for i in all_ch:\n",
    "        nmatches = 0\n",
    "        for ii in all_ch:\n",
    "            if ii == i:\n",
    "                nmatches += 1\n",
    "        if nmatches >= 2:\n",
    "            print (\"ERROR: duplicate site of number {0} found.\".format(i))\n",
    "            bad = True\n",
    "    if bad:\n",
    "        return None\n",
    "    else:\n",
    "        print (\"No duplicate channels.\")\n",
    "        \n",
    "    for k, v in site_groups.items():\n",
    "        site_list = v['sites']\n",
    "        geo = v['geometry'].keys()\n",
    "        \n",
    "        assert len(site_list) == len(geo)\n",
    "        \n",
    "        for s in site_list:\n",
    "            if s not in geo:\n",
    "                raise ValueError('Site {0} specified in \"sites\" but not in \"geometry\" for shank {1}'.format(s, k))\n",
    "        for s in geo:\n",
    "            if s not in site_list:\n",
    "                raise ValueError('Site {0} specified in \"geometry\" but not \"sites\" for shank {1}'.format(s, k))        \n",
    "    print('Site and geometry lists are congruent.')\n",
    "    \n",
    "    channel_groups = {}\n",
    "    for g, v in site_groups.items():\n",
    "        channel_group = {}\n",
    "        channels = []\n",
    "        geometry = {}\n",
    "        for s in v['sites']:\n",
    "            site_idx = acq_site_mapping.index(s)\n",
    "            ch = acq_channels_numbers[site_idx]\n",
    "            channels.append(ch)\n",
    "        channel_group['channels'] = channels\n",
    "        \n",
    "        for s, v in v['geometry'].items():\n",
    "            site_idx = acq_site_mapping.index(s)\n",
    "            ch = acq_channels_numbers[site_idx]\n",
    "            geometry[ch] = v\n",
    "        channel_group['geometry'] = geometry\n",
    "        \n",
    "        channel_groups[g] = channel_group\n",
    "    return channel_groups\n",
    "\n",
    "def linear_shank_graph(channel_list):\n",
    "    \"\"\"\n",
    "    makes a graph to connect sites on a linear probe (ie Buszaki 64)\n",
    "    \"\"\"\n",
    "    graph = []\n",
    "    for i in range(len(channel_list)):\n",
    "        a1 = channel_list[i]\n",
    "        for ii in range(1, 3):\n",
    "            try:\n",
    "                a2 = channel_list[i+ii]\n",
    "                graph.append((a1, a2))\n",
    "            except:\n",
    "                pass\n",
    "    return graph\n",
    "\n",
    "def make_graphs(channel_groups):\n",
    "    for k in  channel_groups.keys():\n",
    "        group = channel_groups[k]\n",
    "        channels = group['channels']\n",
    "        group['graph'] = linear_shank_graph(channels)\n",
    "    return channel_groups"
   ]
  },
  {
   "cell_type": "code",
   "execution_count": 20,
   "metadata": {
    "collapsed": true
   },
   "outputs": [],
   "source": [
    "SGL_64 = {\n",
    "    'raw_channels': range(64),\n",
    "    'HIRES_4x16_flipchip': [\n",
    "        18, 20, 21, 23, 24, 25, 26, 27, 31, 30, 29, 32, 28, 22, 19, 17, 48, 46, 43, 37, 33, 36, 35, 34, 38, 39, 40, 41,\n",
    "        42, 44, 45, 47, 1, 3, 6, 8, 10, 12, 14, 16, 15, 13, 11, 9, 7, 5, 4, 2, 63, 61, 60, 58, 56, 54, 52, 50, 49, 51,\n",
    "        53, 55, 57, 59, 62, 64\n",
    "    ],\n",
    "    'NanoZ': [\n",
    "        34, 36, 38, 40, 42, 44, 46, 48, 47, 45, 43, 41, 39, 37, 35, 33, 57, 59, 62, 64, 50, 52, 54, 56, 55, 53,\n",
    "        51, 49, 63, 61, 60, 58, 1, 3, 5, 7, 9, 11, 13, 15, 16, 14, 12, 10, 8, 6, 4, 2, 26, 28, 29, 31, 17, 19, 21,\n",
    "        23, 24, 22, 20, 18, 32, 30, 27, 25\n",
    "    ],\n",
    "}"
   ]
  },
  {
   "cell_type": "code",
   "execution_count": 13,
   "metadata": {
    "collapsed": false
   },
   "outputs": [],
   "source": [
    "geometries = ((0, 0), (-8, 20), (8, 40), (-12, 60), (12, 80), (-16, 100), (16, 120), (-20, 140), \n",
    "              (20, 160), (-24, 180), (24, 200), (-30, 220), (30, 240), (-34, 260), (34, 280), (-40, 300))\n",
    "\n",
    "site_groups = {\n",
    "    0: {\n",
    "        'sites': [56, 57, 55, 58, 54, 59, 53, 60, 52, 61, 51, 62, 50, 63, 49, 64]\n",
    "    },\n",
    "    1: {\n",
    "        'sites': [41, 37, 33, 42, 40, 43, 36, 44, 39, 45, 35, 46, 38, 47, 34, 48]\n",
    "    },\n",
    "    2: {\n",
    "        'sites': [28, 24, 23, 32, 22, 25, 21, 29, 20, 26, 19, 30, 18, 27, 17, 31]\n",
    "    },\n",
    "    3: {\n",
    "        'sites': [8, 9, 7, 10, 6, 11, 5, 12, 4, 13, 3, 14, 2, 15, 1, 16]\n",
    "    }\n",
    "}"
   ]
  },
  {
   "cell_type": "code",
   "execution_count": 14,
   "metadata": {
    "collapsed": false
   },
   "outputs": [],
   "source": [
    "for gnum, group in site_groups.items():\n",
    "    group['geometry'] = {}\n",
    "    sites = group['sites']\n",
    "    assert len(group['sites']) == len(geometries)\n",
    "    for i in range(len(sites)):\n",
    "        sitenum = sites[i]\n",
    "        pos = geometries[i]\n",
    "        group['geometry'][sitenum] = (pos[0] + 200*gnum, pos[1])"
   ]
  },
  {
   "cell_type": "code",
   "execution_count": 15,
   "metadata": {
    "collapsed": false
   },
   "outputs": [
    {
     "data": {
      "text/plain": [
       "{0: {'geometry': {49: (34, 280),\n",
       "   50: (30, 240),\n",
       "   51: (24, 200),\n",
       "   52: (20, 160),\n",
       "   53: (16, 120),\n",
       "   54: (12, 80),\n",
       "   55: (8, 40),\n",
       "   56: (0, 0),\n",
       "   57: (-8, 20),\n",
       "   58: (-12, 60),\n",
       "   59: (-16, 100),\n",
       "   60: (-20, 140),\n",
       "   61: (-24, 180),\n",
       "   62: (-30, 220),\n",
       "   63: (-34, 260),\n",
       "   64: (-40, 300)},\n",
       "  'sites': [56, 57, 55, 58, 54, 59, 53, 60, 52, 61, 51, 62, 50, 63, 49, 64]},\n",
       " 1: {'geometry': {33: (208, 40),\n",
       "   34: (234, 280),\n",
       "   35: (224, 200),\n",
       "   36: (216, 120),\n",
       "   37: (192, 20),\n",
       "   38: (230, 240),\n",
       "   39: (220, 160),\n",
       "   40: (212, 80),\n",
       "   41: (200, 0),\n",
       "   42: (188, 60),\n",
       "   43: (184, 100),\n",
       "   44: (180, 140),\n",
       "   45: (176, 180),\n",
       "   46: (170, 220),\n",
       "   47: (166, 260),\n",
       "   48: (160, 300)},\n",
       "  'sites': [41, 37, 33, 42, 40, 43, 36, 44, 39, 45, 35, 46, 38, 47, 34, 48]},\n",
       " 2: {'geometry': {17: (434, 280),\n",
       "   18: (430, 240),\n",
       "   19: (424, 200),\n",
       "   20: (420, 160),\n",
       "   21: (416, 120),\n",
       "   22: (412, 80),\n",
       "   23: (408, 40),\n",
       "   24: (392, 20),\n",
       "   25: (384, 100),\n",
       "   26: (376, 180),\n",
       "   27: (366, 260),\n",
       "   28: (400, 0),\n",
       "   29: (380, 140),\n",
       "   30: (370, 220),\n",
       "   31: (360, 300),\n",
       "   32: (388, 60)},\n",
       "  'sites': [28, 24, 23, 32, 22, 25, 21, 29, 20, 26, 19, 30, 18, 27, 17, 31]},\n",
       " 3: {'geometry': {1: (634, 280),\n",
       "   2: (630, 240),\n",
       "   3: (624, 200),\n",
       "   4: (620, 160),\n",
       "   5: (616, 120),\n",
       "   6: (612, 80),\n",
       "   7: (608, 40),\n",
       "   8: (600, 0),\n",
       "   9: (592, 20),\n",
       "   10: (588, 60),\n",
       "   11: (584, 100),\n",
       "   12: (580, 140),\n",
       "   13: (576, 180),\n",
       "   14: (570, 220),\n",
       "   15: (566, 260),\n",
       "   16: (560, 300)},\n",
       "  'sites': [8, 9, 7, 10, 6, 11, 5, 12, 4, 13, 3, 14, 2, 15, 1, 16]}}"
      ]
     },
     "execution_count": 15,
     "metadata": {},
     "output_type": "execute_result"
    }
   ],
   "source": [
    "site_groups"
   ]
  },
  {
   "cell_type": "code",
   "execution_count": 16,
   "metadata": {
    "collapsed": false
   },
   "outputs": [
    {
     "data": {
      "image/png": "[encoded data removed]",
      "text/plain": [
       "<matplotlib.figure.Figure at 0x7f2a4f8cecf8>"
      ]
     },
     "metadata": {},
     "output_type": "display_data"
    }
   ],
   "source": [
    "import matplotlib.pyplot as plt\n",
    "%matplotlib inline\n",
    "for g in site_groups.values():\n",
    "    for num, pos in g['geometry'].items():\n",
    "        plt.plot(pos[0], pos[1], 'o')\n",
    "        plt.text(pos[0], pos[1], num)"
   ]
  },
  {
   "cell_type": "code",
   "execution_count": 21,
   "metadata": {
    "collapsed": false
   },
   "outputs": [
    {
     "name": "stdout",
     "output_type": "stream",
     "text": [
      "64 sites found on all groups.\n",
      "No duplicate channels.\n",
      "Site and geometry lists are congruent.\n"
     ]
    }
   ],
   "source": [
    "channel_groups = convert_sites_to_channels(site_groups, SGL_64['raw_channels'], SGL_64['HIRES_4x16_flipchip'])"
   ]
  },
  {
   "cell_type": "code",
   "execution_count": 22,
   "metadata": {
    "collapsed": false
   },
   "outputs": [
    {
     "data": {
      "image/png": "[encoded data removed]",
      "text/plain": [
       "<matplotlib.figure.Figure at 0x7f2a42ee4e80>"
      ]
     },
     "metadata": {},
     "output_type": "display_data"
    }
   ],
   "source": [
    "for g in channel_groups.values():\n",
    "    for num, pos in g['geometry'].items():\n",
    "        plt.plot(pos[0], pos[1], 'o')\n",
    "        plt.text(pos[0], pos[1], num)"
   ]
  },
  {
   "cell_type": "code",
   "execution_count": 23,
   "metadata": {
    "collapsed": false
   },
   "outputs": [
    {
     "name": "stdout",
     "output_type": "stream",
     "text": [
      "[]\n",
      "[]\n"
     ]
    }
   ],
   "source": [
    "NZ_bad = []\n",
    "def nz_to_sgl(nz_chs, acq_ch_map, nz_ch_map):\n",
    "    ac_chs = []\n",
    "    for ch in nz_chs:\n",
    "        idx = nz_ch_map.index(ch)\n",
    "        ac_chs.append(acq_ch_map[idx])\n",
    "        ac_chs.sort()\n",
    "    return ac_chs\n",
    "\n",
    "a= nz_to_sgl(NZ_bad, SGL_64['raw_channels'], SGL_64['NanoZ'])\n",
    "print (a)\n",
    "print ([x+64 for x in a])"
   ]
  },
  {
   "cell_type": "code",
   "execution_count": 24,
   "metadata": {
    "collapsed": false
   },
   "outputs": [],
   "source": [
    "channel_groups = remove_bad_chs(channel_groups, [])"
   ]
  },
  {
   "cell_type": "code",
   "execution_count": 25,
   "metadata": {
    "collapsed": false
   },
   "outputs": [],
   "source": [
    "channel_groups = make_graphs(channel_groups)"
   ]
  },
  {
   "cell_type": "code",
   "execution_count": 26,
   "metadata": {
    "collapsed": false
   },
   "outputs": [
    {
     "data": {
      "text/plain": [
       "{0: {'channels': [52,\n",
       "   60,\n",
       "   59,\n",
       "   51,\n",
       "   53,\n",
       "   61,\n",
       "   58,\n",
       "   50,\n",
       "   54,\n",
       "   49,\n",
       "   57,\n",
       "   62,\n",
       "   55,\n",
       "   48,\n",
       "   56,\n",
       "   63],\n",
       "  'geometry': {48: (-34, 260),\n",
       "   49: (-24, 180),\n",
       "   50: (-20, 140),\n",
       "   51: (-12, 60),\n",
       "   52: (0, 0),\n",
       "   53: (12, 80),\n",
       "   54: (20, 160),\n",
       "   55: (30, 240),\n",
       "   56: (34, 280),\n",
       "   57: (24, 200),\n",
       "   58: (16, 120),\n",
       "   59: (8, 40),\n",
       "   60: (-8, 20),\n",
       "   61: (-16, 100),\n",
       "   62: (-30, 220),\n",
       "   63: (-40, 300)},\n",
       "  'graph': [(52, 60),\n",
       "   (52, 59),\n",
       "   (60, 59),\n",
       "   (60, 51),\n",
       "   (59, 51),\n",
       "   (59, 53),\n",
       "   (51, 53),\n",
       "   (51, 61),\n",
       "   (53, 61),\n",
       "   (53, 58),\n",
       "   (61, 58),\n",
       "   (61, 50),\n",
       "   (58, 50),\n",
       "   (58, 54),\n",
       "   (50, 54),\n",
       "   (50, 49),\n",
       "   (54, 49),\n",
       "   (54, 57),\n",
       "   (49, 57),\n",
       "   (49, 62),\n",
       "   (57, 62),\n",
       "   (57, 55),\n",
       "   (62, 55),\n",
       "   (62, 48),\n",
       "   (55, 48),\n",
       "   (55, 56),\n",
       "   (48, 56),\n",
       "   (48, 63),\n",
       "   (56, 63)]},\n",
       " 1: {'channels': [27,\n",
       "   19,\n",
       "   20,\n",
       "   28,\n",
       "   26,\n",
       "   18,\n",
       "   21,\n",
       "   29,\n",
       "   25,\n",
       "   30,\n",
       "   22,\n",
       "   17,\n",
       "   24,\n",
       "   31,\n",
       "   23,\n",
       "   16],\n",
       "  'geometry': {16: (160, 300),\n",
       "   17: (170, 220),\n",
       "   18: (184, 100),\n",
       "   19: (192, 20),\n",
       "   20: (208, 40),\n",
       "   21: (216, 120),\n",
       "   22: (224, 200),\n",
       "   23: (234, 280),\n",
       "   24: (230, 240),\n",
       "   25: (220, 160),\n",
       "   26: (212, 80),\n",
       "   27: (200, 0),\n",
       "   28: (188, 60),\n",
       "   29: (180, 140),\n",
       "   30: (176, 180),\n",
       "   31: (166, 260)},\n",
       "  'graph': [(27, 19),\n",
       "   (27, 20),\n",
       "   (19, 20),\n",
       "   (19, 28),\n",
       "   (20, 28),\n",
       "   (20, 26),\n",
       "   (28, 26),\n",
       "   (28, 18),\n",
       "   (26, 18),\n",
       "   (26, 21),\n",
       "   (18, 21),\n",
       "   (18, 29),\n",
       "   (21, 29),\n",
       "   (21, 25),\n",
       "   (29, 25),\n",
       "   (29, 30),\n",
       "   (25, 30),\n",
       "   (25, 22),\n",
       "   (30, 22),\n",
       "   (30, 17),\n",
       "   (22, 17),\n",
       "   (22, 24),\n",
       "   (17, 24),\n",
       "   (17, 31),\n",
       "   (24, 31),\n",
       "   (24, 23),\n",
       "   (31, 23),\n",
       "   (31, 16),\n",
       "   (23, 16)]},\n",
       " 2: {'channels': [12, 4, 3, 11, 13, 5, 2, 10, 1, 6, 14, 9, 0, 7, 15, 8],\n",
       "  'geometry': {0: (430, 240),\n",
       "   1: (420, 160),\n",
       "   2: (416, 120),\n",
       "   3: (408, 40),\n",
       "   4: (392, 20),\n",
       "   5: (384, 100),\n",
       "   6: (376, 180),\n",
       "   7: (366, 260),\n",
       "   8: (360, 300),\n",
       "   9: (370, 220),\n",
       "   10: (380, 140),\n",
       "   11: (388, 60),\n",
       "   12: (400, 0),\n",
       "   13: (412, 80),\n",
       "   14: (424, 200),\n",
       "   15: (434, 280)},\n",
       "  'graph': [(12, 4),\n",
       "   (12, 3),\n",
       "   (4, 3),\n",
       "   (4, 11),\n",
       "   (3, 11),\n",
       "   (3, 13),\n",
       "   (11, 13),\n",
       "   (11, 5),\n",
       "   (13, 5),\n",
       "   (13, 2),\n",
       "   (5, 2),\n",
       "   (5, 10),\n",
       "   (2, 10),\n",
       "   (2, 1),\n",
       "   (10, 1),\n",
       "   (10, 6),\n",
       "   (1, 6),\n",
       "   (1, 14),\n",
       "   (6, 14),\n",
       "   (6, 9),\n",
       "   (14, 9),\n",
       "   (14, 0),\n",
       "   (9, 0),\n",
       "   (9, 7),\n",
       "   (0, 7),\n",
       "   (0, 15),\n",
       "   (7, 15),\n",
       "   (7, 8),\n",
       "   (15, 8)]},\n",
       " 3: {'channels': [35,\n",
       "   43,\n",
       "   44,\n",
       "   36,\n",
       "   34,\n",
       "   42,\n",
       "   45,\n",
       "   37,\n",
       "   46,\n",
       "   41,\n",
       "   33,\n",
       "   38,\n",
       "   47,\n",
       "   40,\n",
       "   32,\n",
       "   39],\n",
       "  'geometry': {32: (634, 280),\n",
       "   33: (624, 200),\n",
       "   34: (612, 80),\n",
       "   35: (600, 0),\n",
       "   36: (588, 60),\n",
       "   37: (580, 140),\n",
       "   38: (570, 220),\n",
       "   39: (560, 300),\n",
       "   40: (566, 260),\n",
       "   41: (576, 180),\n",
       "   42: (584, 100),\n",
       "   43: (592, 20),\n",
       "   44: (608, 40),\n",
       "   45: (616, 120),\n",
       "   46: (620, 160),\n",
       "   47: (630, 240)},\n",
       "  'graph': [(35, 43),\n",
       "   (35, 44),\n",
       "   (43, 44),\n",
       "   (43, 36),\n",
       "   (44, 36),\n",
       "   (44, 34),\n",
       "   (36, 34),\n",
       "   (36, 42),\n",
       "   (34, 42),\n",
       "   (34, 45),\n",
       "   (42, 45),\n",
       "   (42, 37),\n",
       "   (45, 37),\n",
       "   (45, 46),\n",
       "   (37, 46),\n",
       "   (37, 41),\n",
       "   (46, 41),\n",
       "   (46, 33),\n",
       "   (41, 33),\n",
       "   (41, 38),\n",
       "   (33, 38),\n",
       "   (33, 47),\n",
       "   (38, 47),\n",
       "   (38, 40),\n",
       "   (47, 40),\n",
       "   (47, 32),\n",
       "   (40, 32),\n",
       "   (40, 39),\n",
       "   (32, 39)]}}"
      ]
     },
     "execution_count": 26,
     "metadata": {},
     "output_type": "execute_result"
    }
   ],
   "source": [
    "channel_groups"
   ]
  },
  {
   "cell_type": "code",
   "execution_count": 27,
   "metadata": {
    "collapsed": false
   },
   "outputs": [],
   "source": [
    "try:\n",
    "    from pprint import pformat\n",
    "except ImportError:\n",
    "    pformat = print\n",
    "f = open('/home/cdw291/probes/HIRES_j10_2_spyking.prb', 'w')\n",
    "f.write(\"channel_groups = {0}\\n\".format(pformat(channel_groups)))\n",
    "f.close()"
   ]
  },
  {
   "cell_type": "markdown",
   "metadata": {},
   "source": [
    "DOUBLE DOWN\n",
    "---\n",
    "Make a probe file for double 64 ch probes"
   ]
  },
  {
   "cell_type": "code",
   "execution_count": 13,
   "metadata": {
    "collapsed": false
   },
   "outputs": [],
   "source": [
    "# dual_ch_groups = {}\n",
    "# group_shifts = (0,4)\n",
    "# ch_shifts = (0, 64)\n",
    "\n",
    "# for gshift, cshift in zip(group_shifts, ch_shifts):\n",
    "#     for k, v in channel_groups.items():\n",
    "#         channels = [x + cshift for x in v['channels']]\n",
    "#         geometry = {}\n",
    "#         for kk, vv in v['geometry'].items():\n",
    "#             geometry[kk + cshift] = vv\n",
    "#         graph = []\n",
    "#         for i in v['graph']:\n",
    "#             graph.append([x+cshift for x in i])\n",
    "#         dual_ch_groups[k+gshift] = {\n",
    "#             'channels': channels,\n",
    "#             'geometry': geometry,\n",
    "#             'graph': graph\n",
    "#         }\n"
   ]
  },
  {
   "cell_type": "code",
   "execution_count": 15,
   "metadata": {
    "collapsed": false
   },
   "outputs": [],
   "source": [
    "cgroupsdual = {}\n",
    "for k, v in channel_groups.items():\n",
    "    cgroupsdual[k] = v\n",
    "    gnum = k+4\n",
    "    cgroupsdual[gnum] = {'geometry': {}}\n",
    "    \n",
    "    cgroupsdual[gnum]['channels'] = [x+64 for x in v['channels']]\n",
    "    for s, g in v['geometry'].items():\n",
    "        cgroupsdual[gnum]['geometry'][s+64] = (g[0]+ 800, g[1])\n",
    "    cgroupsdual[gnum]['graph'] = []"
   ]
  },
  {
   "cell_type": "code",
   "execution_count": 16,
   "metadata": {
    "collapsed": true
   },
   "outputs": [],
   "source": [
    "f = open('/home/cdw291/probes/whisper/HIRES_dual_spyking.prb', 'w')\n",
    "# pickle.dump(channel_groups, f, 0)\n",
    "f.write(\"channel_groups = {0}\\n\".format(pformat(cgroupsdual)))\n",
    "f.close()"
   ]
  },
  {
   "cell_type": "code",
   "execution_count": null,
   "metadata": {
    "collapsed": false,
    "scrolled": true
   },
   "outputs": [],
   "source": [
    "from pprint import pprint"
   ]
  },
  {
   "cell_type": "code",
   "execution_count": null,
   "metadata": {
    "collapsed": false,
    "scrolled": true
   },
   "outputs": [],
   "source": [
    "pprint (cgroupsdual)"
   ]
  },
  {
   "cell_type": "code",
   "execution_count": null,
   "metadata": {
    "collapsed": true
   },
   "outputs": [],
   "source": [
    "a = {'a' : {'b': 84}}"
   ]
  },
  {
   "cell_type": "code",
   "execution_count": null,
   "metadata": {
    "collapsed": true
   },
   "outputs": [],
   "source": [
    "b = {}\n",
    "b['a'] = a['a']"
   ]
  },
  {
   "cell_type": "code",
   "execution_count": null,
   "metadata": {
    "collapsed": false
   },
   "outputs": [],
   "source": [
    "b['a']['b'] += 1"
   ]
  },
  {
   "cell_type": "code",
   "execution_count": null,
   "metadata": {
    "collapsed": false
   },
   "outputs": [],
   "source": [
    "a"
   ]
  },
  {
   "cell_type": "code",
   "execution_count": null,
   "metadata": {
    "collapsed": true
   },
   "outputs": [],
   "source": []
  }
 ],
 "metadata": {
  "anaconda-cloud": {},
  "kernelspec": {
   "display_name": "Python [default]",
   "language": "python",
   "name": "python3"
  },
  "language_info": {
   "codemirror_mode": {
    "name": "ipython",
    "version": 3
   },
   "file_extension": ".py",
   "mimetype": "text/x-python",
   "name": "python",
   "nbconvert_exporter": "python",
   "pygments_lexer": "ipython3",
   "version": "3.5.2"
  }
 },
 "nbformat": 4,
 "nbformat_minor": 0
}
